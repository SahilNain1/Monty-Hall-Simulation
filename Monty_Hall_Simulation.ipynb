{
  "nbformat": 4,
  "nbformat_minor": 0,
  "metadata": {
    "colab": {
      "provenance": [],
      "authorship_tag": "ABX9TyPWVZqzQZFQEa4juyAbdZ3c",
      "include_colab_link": true
    },
    "kernelspec": {
      "name": "python3",
      "display_name": "Python 3"
    },
    "language_info": {
      "name": "python"
    }
  },
  "cells": [
    {
      "cell_type": "markdown",
      "metadata": {
        "id": "view-in-github",
        "colab_type": "text"
      },
      "source": [
        "<a href=\"https://colab.research.google.com/github/SahilNain1/Monty-Hall-Simulation/blob/main/Monty_Hall_Simulation.ipynb\" target=\"_parent\"><img src=\"https://colab.research.google.com/assets/colab-badge.svg\" alt=\"Open In Colab\"/></a>"
      ]
    },
    {
      "cell_type": "code",
      "source": [
        "import random\n",
        "import numpy as np\n",
        "\n",
        "def monty_hall_simulation(num_doors=3, num_trials=100000):\n",
        "    \"\"\"\n",
        "    Simulates the Monty Hall problem to compare probabilities of winning by switching or staying.\n",
        "\n",
        "    Args:\n",
        "        num_doors (int): Number of doors in the game (default: 3).\n",
        "        num_trials (int): Number of simulations to run (default: 100,000).\n",
        "\n",
        "    Returns:\n",
        "        tuple: (switch_win_probability, stay_win_probability)\n",
        "    \"\"\"\n",
        "    switch_wins = 0\n",
        "    stay_wins = 0\n",
        "\n",
        "    for _ in range(num_trials):\n",
        "        all_doors = list(range(num_doors))\n",
        "        car = random.choice(all_doors)\n",
        "        player_choice = random.choice(all_doors)\n",
        "        host_options = [door for door in all_doors if door != car and door != player_choice]\n",
        "        doors_revealed = random.sample(host_options, num_doors - 2)\n",
        "        switch_options = [door for door in all_doors if door != player_choice and door not in doors_revealed]\n",
        "        assert len(switch_options) == 1, \"Error: Exactly one door should remain for switching.\"\n",
        "        player_switch_choice = switch_options[0]\n",
        "        stay_wins += (player_choice == car)\n",
        "        switch_wins += (player_switch_choice == car)\n",
        "\n",
        "    return switch_wins / num_trials, stay_wins / num_trials\n",
        "\n",
        "switch_prob, stay_prob = monty_hall_simulation(num_doors=3, num_trials=100000)\n",
        "print(f\"Probability of winning when switching: {switch_prob:.4f} (Expected: ~0.6667)\")\n",
        "print(f\"Probability of winning when staying: {stay_prob:.4f} (Expected: ~0.3333)\")"
      ],
      "metadata": {
        "colab": {
          "base_uri": "https://localhost:8080/"
        },
        "id": "fO2lGeVDGCq1",
        "outputId": "c9832671-4f3c-4601-939a-8842f8f62ee0"
      },
      "execution_count": 13,
      "outputs": [
        {
          "output_type": "stream",
          "name": "stdout",
          "text": [
            "Probability of winning when switching: 0.6646 (Expected: ~0.6667)\n",
            "Probability of winning when staying: 0.3354 (Expected: ~0.3333)\n"
          ]
        }
      ]
    }
  ]
}